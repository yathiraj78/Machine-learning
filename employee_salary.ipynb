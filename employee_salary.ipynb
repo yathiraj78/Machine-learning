{
  "nbformat": 4,
  "nbformat_minor": 0,
  "metadata": {
    "colab": {
      "provenance": []
    },
    "kernelspec": {
      "name": "python3",
      "display_name": "Python 3"
    },
    "language_info": {
      "name": "python"
    }
  },
  "cells": [
    {
      "cell_type": "code",
      "execution_count": 13,
      "metadata": {
        "colab": {
          "base_uri": "https://localhost:8080/"
        },
        "id": "IK0zFnqN4AVR",
        "outputId": "671e2e1e-f6d9-49f6-a611-a17e6aa953b3"
      },
      "outputs": [
        {
          "output_type": "stream",
          "name": "stdout",
          "text": [
            "enter the value of n\n",
            "10\n",
            "0\n",
            "1\n",
            "1\n",
            "2\n",
            "3\n",
            "5\n",
            "8\n",
            "13\n",
            "21\n",
            "34\n"
          ]
        }
      ],
      "source": [
        "print('enter the value of n', )\n",
        "n = int(input())\n",
        "def Fib(n):\n",
        "  if n<0:\n",
        "    print('incorrect')\n",
        "  elif n == 0:\n",
        "    return 0\n",
        "  elif n == 1 or n == 2:\n",
        "    return 1\n",
        "  else:\n",
        "    return Fib(n-1) + Fib(n-2)\n",
        "for i in range(n):\n",
        "  print(Fib(i))"
      ]
    },
    {
      "cell_type": "code",
      "source": [
        "employee=[\n",
        "    {\"name\":\"Yathiraj\",\"salary\":5000},\n",
        "    {\"name\":\"Yashu\",\"salary\":6000},\n",
        "    {\"name\":\"y2\",\"salary\":7000},\n",
        "]\n",
        "total=sum(emp[\"salary\"] for emp in employee)\n",
        "avg_salary=total/len(employee)\n",
        "print('employee details')\n",
        "for emp in employee:\n",
        "  print(f\"name:{emp['name']}\")\n",
        "print(f\"total:{total} is total salary of all\")\n",
        "print(f\"{avg_salary} is average salary of all\")"
      ],
      "metadata": {
        "colab": {
          "base_uri": "https://localhost:8080/"
        },
        "id": "Fne3zqVF8Ak9",
        "outputId": "6e1d2229-2fcc-42df-f5e8-b32b8db25c87"
      },
      "execution_count": 21,
      "outputs": [
        {
          "output_type": "stream",
          "name": "stdout",
          "text": [
            "employee details\n",
            "name:Yathiraj\n",
            "name:Yashu\n",
            "name:y2\n",
            "total:18000 is total salary of all\n",
            "6000.0 is average salary of all\n"
          ]
        }
      ]
    }
  ]
}