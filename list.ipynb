{
  "nbformat": 4,
  "nbformat_minor": 0,
  "metadata": {
    "colab": {
      "provenance": []
    },
    "kernelspec": {
      "name": "python3",
      "display_name": "Python 3"
    },
    "language_info": {
      "name": "python"
    }
  },
  "cells": [
    {
      "cell_type": "code",
      "source": [
        "intList=[2,4,5,8,9,10,11,12]\n",
        "evenInt=filter(lambda x:x%2==0,intList)\n",
        "list(evenInt)"
      ],
      "metadata": {
        "colab": {
          "base_uri": "https://localhost:8080/"
        },
        "id": "o3Qtf8HwAYkG",
        "outputId": "3a1cbf41-6c55-43a0-8acc-f30adbd8bf0c"
      },
      "execution_count": 23,
      "outputs": [
        {
          "output_type": "execute_result",
          "data": {
            "text/plain": [
              "[2, 4, 8, 10, 12]"
            ]
          },
          "metadata": {},
          "execution_count": 23
        }
      ]
    }
  ]
}