{
  "nbformat": 4,
  "nbformat_minor": 0,
  "metadata": {
    "colab": {
      "provenance": []
    },
    "kernelspec": {
      "name": "python3",
      "display_name": "Python 3"
    },
    "language_info": {
      "name": "python"
    }
  },
  "cells": [
    {
      "cell_type": "code",
      "source": [
        "import numpy as np\n",
        "from scipy import linalg\n",
        "# define two matrices\n",
        "matrix1 = np.array([[1,2],[3,4]])\n",
        "matrix2 = np.array([[5,6],[7,8]])\n",
        "# matrix operations\n",
        "matrix_sum = matrix1 + matrix2\n",
        "matrix_product = np.dot(matrix1,matrix2)\n",
        "print(\"matrix sum :\\n\",matrix_sum)\n",
        "print(\"matrix product:\\n\",matrix_product)\n",
        "#solve a system of linear equations: Ax = B\n",
        "A = np.array([[3,1],[1,2]])\n",
        "B = np.array([9,8])\n",
        "solution = linalg.solve(A,B)\n",
        "print(\"solution to Ax=B:\",solution)"
      ],
      "metadata": {
        "colab": {
          "base_uri": "https://localhost:8080/"
        },
        "id": "vY7UNmmWDdGW",
        "outputId": "6565e345-8f6f-4b3e-d296-e83cd564ae82"
      },
      "execution_count": 39,
      "outputs": [
        {
          "output_type": "stream",
          "name": "stdout",
          "text": [
            "matrix sum :\n",
            " [[ 6  8]\n",
            " [10 12]]\n",
            "matrix product:\n",
            " [[19 22]\n",
            " [43 50]]\n",
            "solution to Ax=B: [2. 3.]\n"
          ]
        }
      ]
    },
    {
      "cell_type": "code",
      "source": [],
      "metadata": {
        "id": "RDORA7i1EUQm"
      },
      "execution_count": null,
      "outputs": []
    }
  ]
}