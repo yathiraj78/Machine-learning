{
  "nbformat": 4,
  "nbformat_minor": 0,
  "metadata": {
    "colab": {
      "provenance": []
    },
    "kernelspec": {
      "name": "python3",
      "display_name": "Python 3"
    },
    "language_info": {
      "name": "python"
    }
  },
  "cells": [
    {
      "cell_type": "code",
      "source": [
        "import random\n",
        "randomList = random.sample(range(0, 100),20)\n",
        "print(randomList)\n",
        "from statistics import mean,median\n",
        "def getmeanAndmedian(listNum):\n",
        "    return mean(listNum),median(listNum)\n",
        "mean,median = getmeanAndmedian(randomList)\n",
        "print(mean,median)\n"
      ],
      "metadata": {
        "colab": {
          "base_uri": "https://localhost:8080/"
        },
        "id": "9FOLuPr6AqTV",
        "outputId": "28afdb50-abb2-487d-e3ea-653f01e663a2"
      },
      "execution_count": 33,
      "outputs": [
        {
          "output_type": "stream",
          "name": "stdout",
          "text": [
            "[5, 21, 53, 65, 8, 25, 33, 46, 48, 18, 77, 10, 98, 87, 93, 84, 99, 59, 31, 22]\n",
            "49.1 47.0\n"
          ]
        }
      ]
    }
  ]
}